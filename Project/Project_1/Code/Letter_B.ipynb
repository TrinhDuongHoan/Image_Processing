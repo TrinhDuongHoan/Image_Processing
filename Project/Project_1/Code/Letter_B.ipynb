{
 "cells": [
  {
   "cell_type": "code",
   "execution_count": 1,
   "metadata": {},
   "outputs": [],
   "source": [
    "import cv2\n",
    "import numpy as np\n",
    "import matplotlib.pyplot as plt"
   ]
  },
  {
   "cell_type": "code",
   "execution_count": 2,
   "metadata": {},
   "outputs": [],
   "source": [
    "def draw_letter(letter):    \n",
    "    # Xác định chiều rộng và chiều cao của ảnh là 500x500.\n",
    "    width, height = 500, 500\n",
    "    \n",
    "    # Tạo một ảnh trắng (màu RGB là [255, 255, 255]) với kích thước 500x500.\n",
    "    image = np.ones((height, width, 3), dtype=\"uint8\") * 255 \n",
    "\n",
    "    # Chọn phông chữ kiểu Hershey Simplex.\n",
    "    font = cv2.FONT_HERSHEY_SIMPLEX\n",
    "    \n",
    "    # Đặt kích thước phông chữ là 10.\n",
    "    font_scale = 10\n",
    "    \n",
    "    # Đặt độ dày của chữ là 30.\n",
    "    font_thickness = 30\n",
    "    \n",
    "    # Tính kích thước của chữ cái với phông chữ, kích thước và độ dày đã chọn.\n",
    "    text_size = cv2.getTextSize(letter, font, font_scale, font_thickness)[0]\n",
    "    \n",
    "    # Tính toán tọa độ x để đặt chữ cái sao cho nó nằm giữa theo chiều ngang.\n",
    "    text_x = (image.shape[1] - text_size[0]) // 2\n",
    "    \n",
    "    # Tính toán tọa độ y để đặt chữ cái sao cho nó nằm giữa theo chiều dọc.\n",
    "    text_y = (image.shape[0] + text_size[1]) // 2\n",
    "\n",
    "    # Vẽ chữ cái lên ảnh tại vị trí trung tâm đã tính toán với màu đen (RGB là [0, 0, 0]).\n",
    "    cv2.putText(image, letter, (text_x, text_y), font, font_scale, (0, 0, 0), font_thickness)\n",
    "\n",
    "    # Trả về ảnh chứa chữ cái đã được vẽ.\n",
    "    return image\n"
   ]
  },
  {
   "cell_type": "code",
   "execution_count": 3,
   "metadata": {},
   "outputs": [
    {
     "data": {
      "text/plain": [
       "(np.float64(-0.5), np.float64(499.5), np.float64(499.5), np.float64(-0.5))"
      ]
     },
     "execution_count": 3,
     "metadata": {},
     "output_type": "execute_result"
    },
    {
     "data": {
      "image/png": "[encoded data removed]",
      "text/plain": [
       "<Figure size 400x400 with 1 Axes>"
      ]
     },
     "metadata": {},
     "output_type": "display_data"
    }
   ],
   "source": [
    "img = draw_letter('B')\n",
    "plt.figure(figsize=(4, 4))\n",
    "plt.title('Letter B')\n",
    "plt.imshow(img)\n",
    "plt.axis('off')"
   ]
  },
  {
   "cell_type": "code",
   "execution_count": null,
   "metadata": {},
   "outputs": [],
   "source": []
  }
 ],
 "metadata": {
  "kernelspec": {
   "display_name": "Python 3",
   "language": "python",
   "name": "python3"
  },
  "language_info": {
   "codemirror_mode": {
    "name": "ipython",
    "version": 3
   },
   "file_extension": ".py",
   "mimetype": "text/x-python",
   "name": "python",
   "nbconvert_exporter": "python",
   "pygments_lexer": "ipython3",
   "version": "3.12.4"
  }
 },
 "nbformat": 4,
 "nbformat_minor": 2
}
