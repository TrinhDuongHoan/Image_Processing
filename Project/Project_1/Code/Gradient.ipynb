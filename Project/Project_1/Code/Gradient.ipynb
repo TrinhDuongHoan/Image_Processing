{
 "cells": [
  {
   "cell_type": "code",
   "execution_count": 5,
   "metadata": {},
   "outputs": [],
   "source": [
    "import cv2\n",
    "import numpy as np\n",
    "import matplotlib.pyplot as plt"
   ]
  },
  {
   "cell_type": "code",
   "execution_count": 6,
   "metadata": {},
   "outputs": [],
   "source": [
    "def create_gradient_image(status):\n",
    "    img = np.zeros((256, 256), dtype=np.uint8)\n",
    "    if status == \"column\":\n",
    "        for i in range(256):\n",
    "            img[:,i] = 255 - i\n",
    "    elif status == \"row\":\n",
    "        for i in range(256):\n",
    "            img[i,:] = 255 - i\n",
    "    return img"
   ]
  },
  {
   "cell_type": "code",
   "execution_count": 7,
   "metadata": {},
   "outputs": [
    {
     "data": {
      "image/png": "[encoded data removed]",
      "text/plain": [
       "<Figure size 640x480 with 2 Axes>"
      ]
     },
     "metadata": {},
     "output_type": "display_data"
    }
   ],
   "source": [
    "if __name__ == \"__main__\":\n",
    "    img_gradient_row = create_gradient_image(\"row\")\n",
    "    img_gradient_col = create_gradient_image(\"column\")\n",
    "    plt.subplot(1, 2, 1)\n",
    "    plt.title(\"Row Gradient\")\n",
    "    plt.imshow(img_gradient_row, cmap=\"gray\")\n",
    "    plt.axis(\"off\")\n",
    "    plt.subplot(1, 2, 2)\n",
    "    plt.title(\"Column Gradient\")\n",
    "    plt.imshow(img_gradient_col, cmap=\"gray\")\n",
    "    plt.axis(\"off\")"
   ]
  }
 ],
 "metadata": {
  "kernelspec": {
   "display_name": "Python 3",
   "language": "python",
   "name": "python3"
  },
  "language_info": {
   "codemirror_mode": {
    "name": "ipython",
    "version": 3
   },
   "file_extension": ".py",
   "mimetype": "text/x-python",
   "name": "python",
   "nbconvert_exporter": "python",
   "pygments_lexer": "ipython3",
   "version": "3.12.4"
  }
 },
 "nbformat": 4,
 "nbformat_minor": 2
}
