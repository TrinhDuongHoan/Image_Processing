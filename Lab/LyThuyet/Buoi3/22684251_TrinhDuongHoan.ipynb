{
  "cells": [
    {
      "cell_type": "markdown",
      "metadata": {},
      "source": [
        "**Họ Tên :** Trịnh Dương Hoan \\\n",
        "**MSSV :** 22684251"
      ]
    },
    {
      "cell_type": "code",
      "execution_count": 1,
      "metadata": {
        "colab": {
          "base_uri": "https://localhost:8080/"
        },
        "id": "LmZtYvu7QT8L",
        "outputId": "37356d40-0699-4eef-9109-710511b3de3e"
      },
      "outputs": [
        {
          "name": "stdout",
          "output_type": "stream",
          "text": [
            "Mounted at /content/drive\n"
          ]
        }
      ],
      "source": [
        "from google.colab import drive\n",
        "drive.mount('/content/drive')"
      ]
    },
    {
      "cell_type": "markdown",
      "metadata": {
        "id": "O2xylvh-BE2C"
      },
      "source": [
        "## **Numpy**"
      ]
    },
    {
      "cell_type": "code",
      "execution_count": 3,
      "metadata": {
        "id": "yWdpMhw7BEJF"
      },
      "outputs": [],
      "source": [
        "# Khai báo thư viện\n",
        "import numpy as np\n",
        "from time import time"
      ]
    },
    {
      "cell_type": "markdown",
      "metadata": {
        "id": "wPJ8IMIBUCMv"
      },
      "source": [
        "### **Create an array**"
      ]
    },
    {
      "cell_type": "markdown",
      "metadata": {
        "id": "-cCDdzbVWBub"
      },
      "source": [
        "#### *Array function*"
      ]
    },
    {
      "cell_type": "code",
      "execution_count": 13,
      "metadata": {
        "colab": {
          "base_uri": "https://localhost:8080/"
        },
        "id": "jIclGHn8BmbW",
        "outputId": "3f14b85d-1c2f-49bc-9e8d-2f15defd9a67"
      },
      "outputs": [
        {
          "name": "stdout",
          "output_type": "stream",
          "text": [
            "[20.  2.  5.]\n",
            "[[[20]\n",
            "  [ 2]\n",
            "  [ 5]]]\n"
          ]
        }
      ],
      "source": [
        "# Tạo một danh sách các giá trị float\n",
        "list_of_values = [20., 2., 5.]\n",
        "\n",
        "# Chuyển đổi danh sách thành một mảng numpy 1D với kiểu dữ liệu float\n",
        "x = np.array(list_of_values)\n",
        "\n",
        "# Tạo một danh sách chứa các giá trị được bọc trong danh sách con\n",
        "more_values = [[[20], [2], [5]]]\n",
        "\n",
        "# Chuyển đổi danh sách thành một mảng numpy 3D\n",
        "y = np.array(more_values)\n",
        "\n",
        "# In ra mảng x\n",
        "print(x)  # Mảng 1D: [20.  2.  5.]\n",
        "\n",
        "# In ra mảng y\n",
        "print(y)"
      ]
    },
    {
      "cell_type": "markdown",
      "metadata": {
        "id": "P7Dr_5pfWR0c"
      },
      "source": [
        "#### *Using zero, one*"
      ]
    },
    {
      "cell_type": "code",
      "execution_count": 12,
      "metadata": {
        "colab": {
          "base_uri": "https://localhost:8080/"
        },
        "id": "b19gGdijCeW9",
        "outputId": "d3de038f-aeca-4d2d-fa1a-e160af5f3978"
      },
      "outputs": [
        {
          "name": "stdout",
          "output_type": "stream",
          "text": [
            "[[0 0]\n",
            " [0 0]\n",
            " [0 0]\n",
            " [0 0]\n",
            " [0 0]\n",
            " [0 0]\n",
            " [0 0]\n",
            " [0 0]\n",
            " [0 0]\n",
            " [0 0]\n",
            " [0 0]\n",
            " [0 0]\n",
            " [0 0]\n",
            " [0 0]\n",
            " [0 0]\n",
            " [0 0]\n",
            " [0 0]\n",
            " [0 0]\n",
            " [0 0]\n",
            " [0 0]]\n",
            "[[[1.]\n",
            "  [1.]]\n",
            "\n",
            " [[1.]\n",
            "  [1.]]\n",
            "\n",
            " [[1.]\n",
            "  [1.]]\n",
            "\n",
            " [[1.]\n",
            "  [1.]]\n",
            "\n",
            " [[1.]\n",
            "  [1.]]]\n"
          ]
        }
      ],
      "source": [
        "zeros = np.zeros((20, 2), dtype=np.int32)\n",
        "print(zeros)  # In ra mảng chứa toàn bộ giá trị 0\n",
        "\n",
        "# Tạo một mảng numpy chứa toàn bộ giá trị 1 với kích thước 5x2x1 và kiểu dữ liệu np.float32\n",
        "ones = np.ones((5, 2, 1), dtype=np.float32)\n",
        "print(ones)  # In ra mảng chứa toàn bộ giá trị 1"
      ]
    },
    {
      "cell_type": "markdown",
      "metadata": {
        "id": "FfhqihVhWW1z"
      },
      "source": [
        "#### *Using zeros_like, ones_like*"
      ]
    },
    {
      "cell_type": "code",
      "execution_count": 10,
      "metadata": {
        "colab": {
          "base_uri": "https://localhost:8080/"
        },
        "id": "GBzmzCHTERry",
        "outputId": "b3efee8d-5a4e-4506-d4ba-45d6b2153d7d"
      },
      "outputs": [
        {
          "name": "stdout",
          "output_type": "stream",
          "text": [
            "[0 0]\n",
            "[1. 1.]\n"
          ]
        }
      ],
      "source": [
        "x = np.array([5, 5])  # Tạo một mảng numpy với các giá trị [5, 5]\n",
        "zeros = np.zeros_like(x)  # Tạo một mảng zeros có cùng kích thước và kiểu dữ liệu với mảng x\n",
        "ones = np.ones_like(x, dtype = np.float32)  # Tạo một mảng ones có cùng kích thước và kiểu dữ liệu với mảng x\n",
        "print(zeros)  # In ra mảng zeros\n",
        "print(ones)  # In ra mảng ones"
      ]
    },
    {
      "cell_type": "markdown",
      "metadata": {
        "id": "cJ5led-OWm1j"
      },
      "source": [
        "#### *Using the function arange(start,stop, step)*"
      ]
    },
    {
      "cell_type": "code",
      "execution_count": 12,
      "metadata": {
        "colab": {
          "base_uri": "https://localhost:8080/"
        },
        "id": "JgNMSe_2FhbN",
        "outputId": "6d38b14c-9564-4cfc-8ceb-29f71cf947c0"
      },
      "outputs": [
        {
          "name": "stdout",
          "output_type": "stream",
          "text": [
            "[0 1 2 3 4]\n",
            "[2 3 4]\n",
            "[2 4]\n"
          ]
        }
      ],
      "source": [
        "x = np.arange(5)  # Tạo một mảng numpy chứa các giá trị từ 0 đến 4 (0, 1, 2, 3, 4)\n",
        "y = np.arange(2, 5)  # Tạo một mảng numpy chứa các giá trị từ 2 đến 4 (2, 3, 4)\n",
        "z = np.arange(2, 5, 2)  # Tạo một mảng numpy chứa các giá trị từ 2 đến dưới 5, với bước nhảy là 2 (2, 4)\n",
        "\n",
        "print(x)  # In ra mảng x\n",
        "print(y)  # In ra mảng y\n",
        "print(z)  # In ra mảng z"
      ]
    },
    {
      "cell_type": "markdown",
      "metadata": {
        "id": "Ey4M_uqMWtRZ"
      },
      "source": [
        "#### *Using eye*"
      ]
    },
    {
      "cell_type": "code",
      "execution_count": 14,
      "metadata": {
        "colab": {
          "base_uri": "https://localhost:8080/"
        },
        "id": "a-HHi3EqGZ5d",
        "outputId": "3ffb9439-246c-4187-d1e4-5161114f7455"
      },
      "outputs": [
        {
          "name": "stdout",
          "output_type": "stream",
          "text": [
            "[[1. 0. 0. 0. 0.]\n",
            " [0. 1. 0. 0. 0.]\n",
            " [0. 0. 1. 0. 0.]\n",
            " [0. 0. 0. 1. 0.]\n",
            " [0. 0. 0. 0. 1.]]\n"
          ]
        }
      ],
      "source": [
        "x = np.eye(5)  # Tạo một ma trận đơn vị 5x5 (ma trận vuông với đường chéo chính là 1 và các phần tử khác là 0)\n",
        "print(x)  # In ra ma trận đơn vị"
      ]
    },
    {
      "cell_type": "markdown",
      "metadata": {
        "id": "AiNB01mzWzFN"
      },
      "source": [
        "#### *Using rand function*"
      ]
    },
    {
      "cell_type": "code",
      "execution_count": 15,
      "metadata": {
        "colab": {
          "base_uri": "https://localhost:8080/"
        },
        "id": "68OmMxdVGj7t",
        "outputId": "3c25bb47-4846-4844-f7c5-5d9bd060ddc8"
      },
      "outputs": [
        {
          "name": "stdout",
          "output_type": "stream",
          "text": [
            "[[0.38219481 0.61616395 0.75552471 0.12444059 0.20382667]\n",
            " [0.032308   0.42418014 0.41994891 0.49965754 0.08499076]\n",
            " [0.51963127 0.76379537 0.26882404 0.18881617 0.29498512]]\n"
          ]
        }
      ],
      "source": [
        "x = np.random.rand(3,5)  # Tạo một mảng numpy 3x5 chứa các giá trị ngẫu nhiên từ 0 đến 1\n",
        "print(x)  # In ra mảng x\n"
      ]
    },
    {
      "cell_type": "markdown",
      "metadata": {
        "id": "n1QAqxgjW3Z2"
      },
      "source": [
        "#### *Using full*"
      ]
    },
    {
      "cell_type": "code",
      "execution_count": 16,
      "metadata": {
        "colab": {
          "base_uri": "https://localhost:8080/"
        },
        "id": "JKnhv0bvGzR_",
        "outputId": "ba617571-3143-4867-e7e9-99b2ad691d26"
      },
      "outputs": [
        {
          "name": "stdout",
          "output_type": "stream",
          "text": [
            "[[7 7]\n",
            " [7 7]]\n"
          ]
        }
      ],
      "source": [
        "x = np.full((2,2), 7)  # Tạo một mảng numpy 2x2 chứa các giá trị 7\n",
        "print(x)  # In ra mảng x"
      ]
    },
    {
      "cell_type": "code",
      "execution_count": 17,
      "metadata": {
        "colab": {
          "base_uri": "https://localhost:8080/"
        },
        "id": "FVUEW4Z1G-4g",
        "outputId": "ef049064-97a0-45d9-ca66-9489115c4ec6"
      },
      "outputs": [
        {
          "name": "stdout",
          "output_type": "stream",
          "text": [
            "[[7. 7.]\n",
            " [7. 7.]]\n"
          ]
        }
      ],
      "source": [
        "x = np.ones((2,2)) * 7  # Tạo một mảng numpy 2x2 chứa các giá trị 7\n",
        "print(x)  # In ra mảng x"
      ]
    },
    {
      "cell_type": "markdown",
      "metadata": {
        "id": "GdRny4faUuBX"
      },
      "source": [
        "### **Attributes**"
      ]
    },
    {
      "cell_type": "markdown",
      "metadata": {
        "id": "Mm8QHtjmXBGM"
      },
      "source": [
        "#### *dtype*"
      ]
    },
    {
      "cell_type": "code",
      "execution_count": 19,
      "metadata": {
        "colab": {
          "base_uri": "https://localhost:8080/"
        },
        "id": "2MNEGoA7HFik",
        "outputId": "57e391d8-f727-4108-884d-5ce48c8ad048"
      },
      "outputs": [
        {
          "name": "stdout",
          "output_type": "stream",
          "text": [
            "float64\n",
            "int32\n"
          ]
        }
      ],
      "source": [
        "x = np.array([2., 5., 3.])  # Tạo một mảng numpy chứa các giá trị [2., 5., 3.]\n",
        "y = np.array([2., 5., 3], dtype=np.int32)  # Tạo một mảng numpy chứa các giá trị [2, 5, 3] với kiểu dữ liệu là int32\n",
        "print(x.dtype)  # In ra kiểu dữ liệu của mảng x\n",
        "print(y.dtype)  # In ra kiểu dữ liệu của mảng y"
      ]
    },
    {
      "cell_type": "markdown",
      "metadata": {
        "id": "KZVzqrb-XDqM"
      },
      "source": [
        "#### *shape*"
      ]
    },
    {
      "cell_type": "code",
      "execution_count": 21,
      "metadata": {
        "colab": {
          "base_uri": "https://localhost:8080/"
        },
        "id": "AbY2-1ukHdy8",
        "outputId": "56c6e4e5-acd3-46a0-aad4-e0a7de196cfc"
      },
      "outputs": [
        {
          "name": "stdout",
          "output_type": "stream",
          "text": [
            "(3,)\n",
            "(2, 4, 1, 2, 3)\n"
          ]
        }
      ],
      "source": [
        "x = np.array([2.,5.,3.])  # Tạo một mảng numpy chứa các giá trị [2., 5., 3.]\n",
        "y = np.ones((2,4,1,2,3))  # Tạo một mảng numpy chứa các giá trị 1 có kích thước (2,4,1,2,3)\n",
        "print(x.shape)  # In ra kích thước của mảng x\n",
        "print(y.shape)  # In ra kích thước của mảng y\n"
      ]
    },
    {
      "cell_type": "markdown",
      "metadata": {
        "id": "zhJU-W9AU5mU"
      },
      "source": [
        "### **Changing the shape of arrays**"
      ]
    },
    {
      "cell_type": "markdown",
      "metadata": {
        "id": "l-GGVTFEXHZs"
      },
      "source": [
        "#### *using expand_dims*"
      ]
    },
    {
      "cell_type": "code",
      "execution_count": 26,
      "metadata": {
        "colab": {
          "base_uri": "https://localhost:8080/"
        },
        "id": "KS2QlBLsHx2p",
        "outputId": "8b988f87-ac54-43b2-e8ca-a00e72d5fbc4"
      },
      "outputs": [
        {
          "name": "stdout",
          "output_type": "stream",
          "text": [
            "(2, 2, 3)\n"
          ]
        }
      ],
      "source": [
        "x = np.full((2,2,3), 7)  # Tạo một mảng numpy 2x2x3 chứa các giá trị 7\n",
        "print(x.shape)  # In ra kích thước của mảng x\n",
        "x = np.expand_dims(x, axis=0)  # Tăng kích thước của mảng x lên 1 chiều\n",
        "assert x.shape == (1,2,2,3)  # Kiểm tra xem kích thước của mảng x có đúng không\n",
        "print(x)  # In ra mảng x"
      ]
    },
    {
      "cell_type": "markdown",
      "metadata": {
        "id": "50nfL67rXOdz"
      },
      "source": [
        "#### *using the reshape function*"
      ]
    },
    {
      "cell_type": "code",
      "execution_count": 29,
      "metadata": {
        "id": "64Lavk1tIEKB"
      },
      "outputs": [],
      "source": [
        "x = np.arange((10))  # Tạo một mảng numpy chứa các giá trị từ 0 đến 9\n",
        "y = np.reshape(x, (2,5))  # Đổi kích thước của mảng x thành (2,5)\n",
        "assert y.shape == (2,5)  # Kiểm tra xem kích thước của mảng y có đúng không"
      ]
    },
    {
      "cell_type": "code",
      "execution_count": 47,
      "metadata": {
        "colab": {
          "base_uri": "https://localhost:8080/"
        },
        "id": "QYnMc4OKIx7x",
        "outputId": "77fb0510-38b5-4d62-8e6f-8b9ae09057f7"
      },
      "outputs": [
        {
          "name": "stdout",
          "output_type": "stream",
          "text": [
            "[ 0  1  2  3  4  5  6  7  8  9 10 11 12 13 14 15 16 17 18 19]\n",
            "[[[ 0  1]\n",
            "  [ 2  3]\n",
            "  [ 4  5]\n",
            "  [ 6  7]\n",
            "  [ 8  9]]\n",
            "\n",
            " [[10 11]\n",
            "  [12 13]\n",
            "  [14 15]\n",
            "  [16 17]\n",
            "  [18 19]]]\n"
          ]
        }
      ],
      "source": [
        "x = np.arange((20))  # Tạo một mảng numpy chứa các giá trị từ 0 đến 19\n",
        "y = np.reshape(x, (2,-1,2))  # Đổi kích thước của mảng x thành (2,5,2)\n",
        "assert y.shape == (2,5,2)  # Kiểm tra xem kích thước của mảng y có đúng không\n",
        "print(x) # In ra mảng x\n",
        "print(y) # In ra mảng y"
      ]
    },
    {
      "cell_type": "markdown",
      "metadata": {
        "id": "UpWIxpLBXb_i"
      },
      "source": [
        "#### *ValueError*"
      ]
    },
    {
      "cell_type": "code",
      "execution_count": null,
      "metadata": {
        "colab": {
          "base_uri": "https://localhost:8080/",
          "height": 321
        },
        "collapsed": true,
        "id": "xvhhKCaeJD8A",
        "outputId": "067de041-5f24-4edf-e035-3c9f527ce7fb"
      },
      "outputs": [],
      "source": [
        "x = np.arange((20))  # Tạo một mảng numpy chứa các giá trị từ 0 đến 19\n",
        "y = np.reshape(x, (2,-1,-1))  # Test lỗi"
      ]
    },
    {
      "cell_type": "markdown",
      "metadata": {
        "id": "JBPuswHQXihU"
      },
      "source": [
        "#### *Using squeeze*"
      ]
    },
    {
      "cell_type": "code",
      "execution_count": 42,
      "metadata": {
        "colab": {
          "base_uri": "https://localhost:8080/"
        },
        "id": "l83qWYCsJpVE",
        "outputId": "5fe8bdb9-2fb0-4cf9-95df-41413567649a"
      },
      "outputs": [
        {
          "name": "stdout",
          "output_type": "stream",
          "text": [
            "[[[5]]\n",
            "\n",
            " [[5]]\n",
            "\n",
            " [[5]]\n",
            "\n",
            " [[5]]\n",
            "\n",
            " [[5]]\n",
            "\n",
            " [[5]]\n",
            "\n",
            " [[5]]\n",
            "\n",
            " [[5]]\n",
            "\n",
            " [[5]]\n",
            "\n",
            " [[5]]\n",
            "\n",
            " [[5]]\n",
            "\n",
            " [[5]]\n",
            "\n",
            " [[5]]\n",
            "\n",
            " [[5]]\n",
            "\n",
            " [[5]]\n",
            "\n",
            " [[5]]\n",
            "\n",
            " [[5]]\n",
            "\n",
            " [[5]]\n",
            "\n",
            " [[5]]\n",
            "\n",
            " [[5]]]\n",
            "[5 5 5 5 5 5 5 5 5 5 5 5 5 5 5 5 5 5 5 5]\n"
          ]
        }
      ],
      "source": [
        "x = np.full((20,1,1), 5)  # Tạo một mảng numpy 20x1x1 chứa các giá trị 5\n",
        "y = np.squeeze(x)  # Giảm kích thước của mảng x lên 1 chiều\n",
        "assert y.shape == (20,)  # Kiểm tra xem kích thước của mảng y có đúng không\n",
        "print(x) # In ra mảng x\n",
        "print(y) # In ra mảng y"
      ]
    },
    {
      "cell_type": "code",
      "execution_count": 43,
      "metadata": {
        "colab": {
          "base_uri": "https://localhost:8080/"
        },
        "id": "in5uqNFDJ_qe",
        "outputId": "a88393d7-7444-4e91-9535-38fb643ba904"
      },
      "outputs": [
        {
          "name": "stdout",
          "output_type": "stream",
          "text": [
            "[[[5]]\n",
            "\n",
            " [[5]]\n",
            "\n",
            " [[5]]\n",
            "\n",
            " [[5]]\n",
            "\n",
            " [[5]]\n",
            "\n",
            " [[5]]\n",
            "\n",
            " [[5]]\n",
            "\n",
            " [[5]]\n",
            "\n",
            " [[5]]\n",
            "\n",
            " [[5]]\n",
            "\n",
            " [[5]]\n",
            "\n",
            " [[5]]\n",
            "\n",
            " [[5]]\n",
            "\n",
            " [[5]]\n",
            "\n",
            " [[5]]\n",
            "\n",
            " [[5]]\n",
            "\n",
            " [[5]]\n",
            "\n",
            " [[5]]\n",
            "\n",
            " [[5]]\n",
            "\n",
            " [[5]]]\n",
            "[[5]\n",
            " [5]\n",
            " [5]\n",
            " [5]\n",
            " [5]\n",
            " [5]\n",
            " [5]\n",
            " [5]\n",
            " [5]\n",
            " [5]\n",
            " [5]\n",
            " [5]\n",
            " [5]\n",
            " [5]\n",
            " [5]\n",
            " [5]\n",
            " [5]\n",
            " [5]\n",
            " [5]\n",
            " [5]]\n"
          ]
        }
      ],
      "source": [
        "x = np.full((20,1,1), 5)  # Tạo một mảng numpy 20x1x1 chứa các giá trị 5\n",
        "y = np.squeeze(x, axis=1)  # Giảm kích thước của mảng x lên 1 chiều\n",
        "assert y.shape == (20,1)  # Kiểm tra xem kích thước của mảng y có đúng không\n",
        "print(x) # In ra mảng x\n",
        "print(y) # In ra mảng y"
      ]
    },
    {
      "cell_type": "markdown",
      "metadata": {
        "id": "G2ysVrdYVF51"
      },
      "source": [
        "### **Elements of arrays**"
      ]
    },
    {
      "cell_type": "markdown",
      "metadata": {
        "id": "BKexa65UXqLK"
      },
      "source": [
        "#### *index notation*"
      ]
    },
    {
      "cell_type": "code",
      "execution_count": 44,
      "metadata": {
        "colab": {
          "base_uri": "https://localhost:8080/"
        },
        "id": "oq87_lZRKGpW",
        "outputId": "af210181-2bf6-464b-8d47-027bb9f9862a"
      },
      "outputs": [
        {
          "name": "stdout",
          "output_type": "stream",
          "text": [
            "10\n"
          ]
        }
      ],
      "source": [
        "x = np.arange(20)  # Tạo một mảng numpy chứa các giá trị từ 0 đến 19\n",
        "element = x[10]  # Lấy phần tử thứ 10 trong mảng x\n",
        "print(element)  # In ra phần tử thứ 10 trong mảng x"
      ]
    },
    {
      "cell_type": "markdown",
      "metadata": {
        "id": "lqcVg03vXoY3"
      },
      "source": [
        "#### *item function*"
      ]
    },
    {
      "cell_type": "code",
      "execution_count": 45,
      "metadata": {
        "colab": {
          "base_uri": "https://localhost:8080/"
        },
        "id": "ZAsaURj-KYlM",
        "outputId": "21a6e442-2f15-43cd-9413-0535a9ae4163"
      },
      "outputs": [
        {
          "name": "stdout",
          "output_type": "stream",
          "text": [
            "10\n"
          ]
        }
      ],
      "source": [
        "x = np.arange(20)  # Tạo một mảng numpy chứa các giá trị từ 0 đến 19\n",
        "element = x.item(10)  # Lấy phần tử thứ 10 trong mảng x\n",
        "print(element)  # In ra phần tử thứ 10 trong mảng x"
      ]
    },
    {
      "cell_type": "markdown",
      "metadata": {
        "id": "hyeZCQt0Xypi"
      },
      "source": [
        "#### *Slice notation*"
      ]
    },
    {
      "cell_type": "code",
      "execution_count": 48,
      "metadata": {
        "colab": {
          "base_uri": "https://localhost:8080/"
        },
        "id": "9fKwCFsHKgRh",
        "outputId": "de7d5c38-45a4-490f-d1ce-dd4a035020a9"
      },
      "outputs": [
        {
          "name": "stdout",
          "output_type": "stream",
          "text": [
            "[10 11 12 13 14]\n"
          ]
        }
      ],
      "source": [
        "x = np.arange(20)  # Tạo một mảng numpy chứa các giá trị từ 0 đến 19\n",
        "element = x[10:15]  # Lấy các phần tử từ 10 đến 14 trong mảng x\n",
        "print(element)  # In ra các phần tử từ 10 đến 14 trong mảng x"
      ]
    },
    {
      "cell_type": "code",
      "execution_count": 50,
      "metadata": {
        "colab": {
          "base_uri": "https://localhost:8080/"
        },
        "id": "66HK0McxKxE-",
        "outputId": "9f5757a5-cb10-4e32-a4a8-660369ccd574"
      },
      "outputs": [
        {
          "name": "stdout",
          "output_type": "stream",
          "text": [
            "[10 11 12]\n"
          ]
        }
      ],
      "source": [
        "more_element = x[10:-7]  # Lấy các phần tử từ 10 đến len(x) -8 trong mảng x\n",
        "assert np.array_equal(more_element, x[10:13])\n",
        "print(more_element)  # In ra các phần tử từ 10 đến len(x) -8 trong mảng x"
      ]
    },
    {
      "cell_type": "code",
      "execution_count": 51,
      "metadata": {
        "colab": {
          "base_uri": "https://localhost:8080/"
        },
        "id": "yQAGC-rpLyJN",
        "outputId": "3d2217ad-1901-4310-dff3-161c75b34f8e"
      },
      "outputs": [
        {
          "name": "stdout",
          "output_type": "stream",
          "text": [
            "[ 0  3  6  9 12 15 18]\n"
          ]
        }
      ],
      "source": [
        "array = x[::3]  # Lấy các phần tử từ 0 đến len(x) -1 với bước nhảy là 3\n",
        "print(array)  # In ra các phần tử từ 0 đến len(x) -1 với bước nhảy là 3"
      ]
    },
    {
      "cell_type": "markdown",
      "metadata": {
        "id": "eLm0GrYmX5aT"
      },
      "source": [
        "#### *concatenate function*"
      ]
    },
    {
      "cell_type": "code",
      "execution_count": 53,
      "metadata": {
        "colab": {
          "base_uri": "https://localhost:8080/"
        },
        "id": "3hktLbfML5hL",
        "outputId": "896c2115-ae20-4a06-d6d2-681e0eb9877c"
      },
      "outputs": [
        {
          "name": "stdout",
          "output_type": "stream",
          "text": [
            "[[3 3 4]\n",
            " [3 3 4]\n",
            " [3 3 4]\n",
            " [3 3 4]\n",
            " [3 3 4]]\n"
          ]
        }
      ],
      "source": [
        "x = np.full((5,2), 3)  # Tạo một mảng numpy 5x2 chứa các giá trị 3\n",
        "y = np.full((5,1), 4)  # Tạo một mảng numpy 5x1 chứa các giá trị 4\n",
        "z = np.concatenate([x,y], axis=1)  # Nối hai mảng x và y theo trục 1\n",
        "print(z) # In ra mảng z\n",
        "assert z.shape == (5,3)  # Kiểm tra xem kích thước của mảng z có đúng không"
      ]
    },
    {
      "cell_type": "markdown",
      "metadata": {
        "id": "t1kglH-tVak8"
      },
      "source": [
        "### **NumPy math**"
      ]
    },
    {
      "cell_type": "markdown",
      "metadata": {
        "id": "VC6puA8lX-Bk"
      },
      "source": [
        "#### *sum and subtraction*"
      ]
    },
    {
      "cell_type": "code",
      "execution_count": 57,
      "metadata": {
        "colab": {
          "base_uri": "https://localhost:8080/"
        },
        "id": "UemnK40ZMLqv",
        "outputId": "42cce597-5d31-4680-9128-bd22154be7fc"
      },
      "outputs": [
        {
          "name": "stdout",
          "output_type": "stream",
          "text": [
            "[[[9 9 9]\n",
            "  [9 9 9]]\n",
            "\n",
            " [[9 9 9]\n",
            "  [9 9 9]]\n",
            "\n",
            " [[9 9 9]\n",
            "  [9 9 9]]\n",
            "\n",
            " [[9 9 9]\n",
            "  [9 9 9]]]\n",
            "[[[7 7 7]\n",
            "  [7 7 7]]\n",
            "\n",
            " [[7 7 7]\n",
            "  [7 7 7]]\n",
            "\n",
            " [[7 7 7]\n",
            "  [7 7 7]]\n",
            "\n",
            " [[7 7 7]\n",
            "  [7 7 7]]]\n"
          ]
        }
      ],
      "source": [
        "x = np.full((4,2,3), 8)  # Tạo một mảng numpy 4x2x3 chứa các giá trị 8\n",
        "y = np.ones_like(x)  # Tạo một mảng numpy có cùng kích thước và kiểu dữ liệu với mảng x\n",
        "\n",
        "array_sum = x + y  # Cộng hai mảng x và y\n",
        "assert np.array_equal(array_sum, np.ones_like(x)* 9)  # Kiểm tra xem mảng array_sum có đúng không\n",
        "print(array_sum)  # In ra mảng array_sum\n",
        "\n",
        "arrray_sub = x - y  # Trừ hai mảng x và y\n",
        "assert np.array_equal(arrray_sub, np.ones_like(x) * 7)  # Kiểm tra xem mảng arrray_sub có đúng không\n",
        "print(arrray_sub)  # In ra mảng arrray_sub\n"
      ]
    },
    {
      "cell_type": "markdown",
      "metadata": {
        "id": "1xzKUU2DYKd9"
      },
      "source": [
        "#### *broadcasting*"
      ]
    },
    {
      "cell_type": "code",
      "execution_count": 14,
      "metadata": {
        "colab": {
          "base_uri": "https://localhost:8080/"
        },
        "id": "U5Vn7CcsYMIr",
        "outputId": "abb8e893-6d73-4b29-91bc-4555ae1aca05"
      },
      "outputs": [
        {
          "name": "stdout",
          "output_type": "stream",
          "text": [
            "[[[9 9 9]\n",
            "  [9 9 9]]\n",
            "\n",
            " [[9 9 9]\n",
            "  [9 9 9]]\n",
            "\n",
            " [[9 9 9]\n",
            "  [9 9 9]]\n",
            "\n",
            " [[9 9 9]\n",
            "  [9 9 9]]]\n",
            "[[[7 7 7]\n",
            "  [7 7 7]]\n",
            "\n",
            " [[7 7 7]\n",
            "  [7 7 7]]\n",
            "\n",
            " [[7 7 7]\n",
            "  [7 7 7]]\n",
            "\n",
            " [[7 7 7]\n",
            "  [7 7 7]]]\n"
          ]
        }
      ],
      "source": [
        "x = np.full((4,2,3), 8)  # Tạo một mảng numpy 4x2x3 chứa các giá trị 8\n",
        "y = 1  # Tạo một số nguyên y\n",
        "\n",
        "array_sum = x + y  # Cộng hai mảng x và y\n",
        "assert np.array_equal(array_sum, np.ones_like(x)* 9)  # Kiểm tra xem mảng array_sum có đúng không\n",
        "print(array_sum)  # In ra mảng array_sum\n",
        "\n",
        "arrray_sub = x - y  # Trừ hai mảng x và y\n",
        "assert np.array_equal(arrray_sub, np.ones_like(x) * 7)  # Kiểm tra xem mảng arrray_sub có đúng không\n",
        "print(arrray_sub)  # In ra mảng arrray_sub\n"
      ]
    },
    {
      "cell_type": "markdown",
      "metadata": {
        "id": "mjQX68xHYdRZ"
      },
      "source": [
        "#### *ValueError*"
      ]
    },
    {
      "cell_type": "code",
      "execution_count": null,
      "metadata": {
        "id": "2ZK3_lDxYgQt"
      },
      "outputs": [],
      "source": [
        "x = np.full((4,2,3), 8)  # Tạo một mảng numpy 4x2x3 chứa các giá trị 8\n",
        "y = np.full((4,3), 3)  # Tạo một mảng numpy 4x3 chứa các giá trị 3\n",
        "\n",
        "array_sum = x + y  # ValueError\n",
        "\n",
        "y2 = np.full((4),3)  # Tạo một mảng numpy 4 chứa các giá trị 3\n",
        "\n",
        "array_sum = x + y2  # ValueError\n",
        "\n",
        "y3 = np.ones(4)  # Tạo một mảng numpy 4 chứa các giá trị 1\n",
        "y3 = np.expand_dims(1, 0)  # Tạo một mảng numpy 4x1 chứa các giá trị 1\n",
        "\n",
        "array_sum = x + y3  # it works !\n"
      ]
    },
    {
      "cell_type": "markdown",
      "metadata": {
        "id": "wQshL8PVZLyM"
      },
      "source": [
        "#### *multiplication*"
      ]
    },
    {
      "cell_type": "code",
      "execution_count": 59,
      "metadata": {
        "colab": {
          "base_uri": "https://localhost:8080/"
        },
        "id": "WwAoeqFvMvRC",
        "outputId": "ba39f487-77e7-4d17-c935-9a880444d9b8"
      },
      "outputs": [
        {
          "name": "stdout",
          "output_type": "stream",
          "text": [
            "[[[8. 8. 8.]\n",
            "  [8. 8. 8.]]\n",
            "\n",
            " [[8. 8. 8.]\n",
            "  [8. 8. 8.]]\n",
            "\n",
            " [[8. 8. 8.]\n",
            "  [8. 8. 8.]]\n",
            "\n",
            " [[8. 8. 8.]\n",
            "  [8. 8. 8.]]]\n"
          ]
        }
      ],
      "source": [
        "x1 = np.full((4,2,3), 8)  # Tạo một matrix numpy 4x2x3 chứa các giá trị 8\n",
        "x2 = np.full((3,3),7)  # Tạo một matrix numpy 3x3 chứa các giá trị 7\n",
        "y = np.eye(3)  # Tạo một ma trận đơn vị 3x3\n",
        "mul = np.matmul(x1, y)  # Nhân hai matrix x1 và y\n",
        "assert np.array_equal(mul, x1)  # Kiểm tra xem ma trận mul có đúng không\n",
        "print(mul)  # In ra matrix mul\n"
      ]
    },
    {
      "cell_type": "code",
      "execution_count": 60,
      "metadata": {
        "colab": {
          "base_uri": "https://localhost:8080/"
        },
        "id": "DacMRDDVNoVO",
        "outputId": "81abb791-13ef-417d-b918-87a9edd0c40c"
      },
      "outputs": [
        {
          "name": "stdout",
          "output_type": "stream",
          "text": [
            "[[7. 7. 7.]\n",
            " [7. 7. 7.]\n",
            " [7. 7. 7.]]\n"
          ]
        }
      ],
      "source": [
        "mul = np.matmul(x2,y)  # Nhân hai matrix x2 và y\n",
        "assert np.array_equal(mul, x2)  # Kiểm tra xem ma trận mul có đúng không\n",
        "print(mul)  # In ra matrix mul"
      ]
    },
    {
      "cell_type": "markdown",
      "metadata": {
        "id": "SFnXY2MaVp6L"
      },
      "source": [
        "### **Conditions**"
      ]
    },
    {
      "cell_type": "markdown",
      "metadata": {
        "id": "vhrU0CzrZPej"
      },
      "source": [
        "#### *where*"
      ]
    },
    {
      "cell_type": "code",
      "execution_count": 62,
      "metadata": {
        "colab": {
          "base_uri": "https://localhost:8080/"
        },
        "id": "0Adx8TxYN9xX",
        "outputId": "45d68491-757a-4327-f17b-de6172a4dbae"
      },
      "outputs": [
        {
          "name": "stdout",
          "output_type": "stream",
          "text": [
            "[  0   0 255 255 255]\n"
          ]
        }
      ],
      "source": [
        "x = np.arange(5)  # Tạo một mảng numpy chứa các giá trị từ 0 đến 4\n",
        "y = np.where(x < 2,0,255)  # Thay thế các phần tử < 2 trong mảng x bằng 0 và các phần tử >= 2 trong mảng x bằng 255\n",
        "print(y)  # In ra mảng y"
      ]
    },
    {
      "cell_type": "code",
      "execution_count": 67,
      "metadata": {
        "colab": {
          "base_uri": "https://localhost:8080/"
        },
        "id": "4ozEwr1SONFU",
        "outputId": "a19ec58d-ca23-4b7b-a56d-541e7022ad49"
      },
      "outputs": [
        {
          "name": "stdout",
          "output_type": "stream",
          "text": [
            "3.00933837890625\n"
          ]
        }
      ],
      "source": [
        "x = np.random.rand(4,640, 480, 3)  # Tạo một mảng numpy chứa các giá trị ngẫu nhiên từ 0 đến 1\n",
        "batch, height, width, channels = x.shape  # Lấy kích thước của mảng x\n",
        "start = time()\n",
        "y = np.ones_like(x)  # Tạo một mảng numpy có cùng kích thước và kiểu dữ liệu với mảng x\n",
        "for b in range(batch):\n",
        "    for h in range(height):\n",
        "        for w in range(width):\n",
        "          for c in range(channels) :\n",
        "            y[b,h,w,c] =  0 if x[b,h,w,c] < 0.05 else 255  # Thay thế các phần tử < 0.05 trong mảng x bằng 0 và các phần tử >= 0.05 trong mảng x bằng 255\n",
        "duration = time() - start\n",
        "print(duration)"
      ]
    },
    {
      "cell_type": "code",
      "execution_count": 68,
      "metadata": {
        "colab": {
          "base_uri": "https://localhost:8080/"
        },
        "id": "j-hPCZkMOoMz",
        "outputId": "6bbc1c4d-513b-4158-a483-673901cc33fa"
      },
      "outputs": [
        {
          "name": "stdout",
          "output_type": "stream",
          "text": [
            "0.06139802932739258\n"
          ]
        }
      ],
      "source": [
        "x = np.random.rand(4,640, 480, 3)  # Tạo một mảng numpy chứa các giá trị ngẫu nhiên từ 0 đến 1\n",
        "start = time()\n",
        "y = np.where(x < 0.05, 0, 255)\n",
        "duration = time() - start\n",
        "print(duration)"
      ]
    },
    {
      "cell_type": "markdown",
      "metadata": {
        "id": "LYPDDAA1Pmo8"
      },
      "source": [
        "=> cách 2 tối ưu hơn cách 1"
      ]
    },
    {
      "cell_type": "markdown",
      "metadata": {
        "id": "NlzYtQSQVuOR"
      },
      "source": [
        "### **NumPy Input/Output**"
      ]
    },
    {
      "cell_type": "markdown",
      "metadata": {
        "id": "qacEUg33ZUpk"
      },
      "source": [
        "#### *loadtxt*"
      ]
    },
    {
      "cell_type": "code",
      "execution_count": 8,
      "metadata": {
        "colab": {
          "base_uri": "https://localhost:8080/"
        },
        "id": "q0yHUkLBPlg5",
        "outputId": "6aa3cb93-8d1f-4056-ba25-c4e3aa372535"
      },
      "outputs": [
        {
          "name": "stdout",
          "output_type": "stream",
          "text": [
            "[[1. 2. 3.]\n",
            " [4. 5. 6.]]\n"
          ]
        }
      ],
      "source": [
        "data = np.loadtxt(\"/content/drive/MyDrive/XuLiAnh/Lab_Numpy/test.txt\", dtype=np.float32, delimiter=',')\n",
        "print(data)"
      ]
    },
    {
      "cell_type": "markdown",
      "metadata": {
        "id": "rW_YUlQXSawr"
      },
      "source": [
        "## **Matplotlib**"
      ]
    },
    {
      "cell_type": "code",
      "execution_count": 10,
      "metadata": {
        "id": "R726_fn_RfNg"
      },
      "outputs": [],
      "source": [
        "import matplotlib.pyplot as plt # Khai báo thư viện"
      ]
    },
    {
      "cell_type": "code",
      "execution_count": 11,
      "metadata": {
        "colab": {
          "base_uri": "https://localhost:8080/",
          "height": 430
        },
        "id": "q2C6qa8aSjn5",
        "outputId": "14637260-84c6-487a-a162-1542087ec1ce"
      },
      "outputs": [
        {
          "data": {
            "image/png": "[encoded data removed]",
            "text/plain": [
              "<Figure size 640x480 with 1 Axes>"
            ]
          },
          "metadata": {},
          "output_type": "display_data"
        }
      ],
      "source": [
        "labels = ['7', '8', '9', '10','11'] # Tạo danh sách nhãn\n",
        "x = np.arange(5) # Tạo mảng x chứa các giá trị từ 0 đến 4\n",
        "m1 = np.array([4.1, 5.0, 7.8, 9.5, 10.2])  # Tạo mảng m1 chứa các giá trị\n",
        "m2 = np.array([2.5, 2.0, 3.6, 5.1, 5.5])  # Tạo mảng m2 chứa các giá trị\n",
        "\n",
        "plt.plot(x,m1, color = \"forestgreen\", label = \"m1\", linestyle = 'dashed') # Vẽ đồ thị cho m1\n",
        "plt.plot(x,m2, color = \"orange\", label = \"m2\") # Vẽ đồ thị cho m2\n",
        "plt.legend()  # Hiển thị chú thích\n",
        "plt.savefig('chart.png')  # Lưu ảnh\n",
        "plt.show()  # Hiển thị biểu đồ"
      ]
    },
    {
      "cell_type": "code",
      "execution_count": null,
      "metadata": {
        "id": "dm96BaqUTvoo"
      },
      "outputs": [],
      "source": []
    }
  ],
  "metadata": {
    "colab": {
      "provenance": []
    },
    "kernelspec": {
      "display_name": "Python 3",
      "name": "python3"
    },
    "language_info": {
      "name": "python"
    }
  },
  "nbformat": 4,
  "nbformat_minor": 0
}
